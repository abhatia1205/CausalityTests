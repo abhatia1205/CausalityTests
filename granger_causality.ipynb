{
 "cells": [
  {
   "cell_type": "code",
   "execution_count": 1,
   "metadata": {},
   "outputs": [
    {
     "name": "stderr",
     "output_type": "stream",
     "text": [
      "C:\\Users\\ashkm\\AppData\\Local\\Temp\\ipykernel_49460\\429619021.py:1: DeprecationWarning: \n",
      "Pyarrow will become a required dependency of pandas in the next major release of pandas (pandas 3.0),\n",
      "(to allow more performant data types, such as the Arrow string type, and better interoperability with other libraries)\n",
      "but was not found to be installed on your system.\n",
      "If this would cause problems for you,\n",
      "please provide us feedback at https://github.com/pandas-dev/pandas/issues/54466\n",
      "        \n",
      "  import pandas as pd\n"
     ]
    }
   ],
   "source": [
    "import pandas as pd\n",
    "import yfinance as yf\n",
    "from datetime import date, timedelta\n",
    "from matplotlib import pyplot as plt\n",
    "import numpy as np\n",
    "from statsmodels.tsa.stattools import grangercausalitytests"
   ]
  },
  {
   "cell_type": "code",
   "execution_count": 2,
   "metadata": {},
   "outputs": [
    {
     "name": "stderr",
     "output_type": "stream",
     "text": [
      "C:\\Users\\ashkm\\AppData\\Local\\Packages\\PythonSoftwareFoundation.Python.3.10_qbz5n2kfra8p0\\LocalCache\\local-packages\\Python310\\site-packages\\yfinance\\utils.py:775: FutureWarning: The 'unit' keyword in TimedeltaIndex construction is deprecated and will be removed in a future version. Use pd.to_timedelta instead.\n",
      "  df.index += _pd.TimedeltaIndex(dst_error_hours, 'h')\n"
     ]
    },
    {
     "data": {
      "text/html": [
       "<div>\n",
       "<style scoped>\n",
       "    .dataframe tbody tr th:only-of-type {\n",
       "        vertical-align: middle;\n",
       "    }\n",
       "\n",
       "    .dataframe tbody tr th {\n",
       "        vertical-align: top;\n",
       "    }\n",
       "\n",
       "    .dataframe thead th {\n",
       "        text-align: right;\n",
       "    }\n",
       "</style>\n",
       "<table border=\"1\" class=\"dataframe\">\n",
       "  <thead>\n",
       "    <tr style=\"text-align: right;\">\n",
       "      <th></th>\n",
       "      <th>Open</th>\n",
       "      <th>High</th>\n",
       "      <th>Low</th>\n",
       "      <th>Close</th>\n",
       "      <th>Volume</th>\n",
       "      <th>Dividends</th>\n",
       "      <th>Stock Splits</th>\n",
       "    </tr>\n",
       "    <tr>\n",
       "      <th>Date</th>\n",
       "      <th></th>\n",
       "      <th></th>\n",
       "      <th></th>\n",
       "      <th></th>\n",
       "      <th></th>\n",
       "      <th></th>\n",
       "      <th></th>\n",
       "    </tr>\n",
       "  </thead>\n",
       "  <tbody>\n",
       "    <tr>\n",
       "      <th>2023-08-28 00:00:00+01:00</th>\n",
       "      <td>146.531006</td>\n",
       "      <td>146.716003</td>\n",
       "      <td>146.278000</td>\n",
       "      <td>146.531006</td>\n",
       "      <td>0</td>\n",
       "      <td>0.0</td>\n",
       "      <td>0.0</td>\n",
       "    </tr>\n",
       "    <tr>\n",
       "      <th>2023-08-29 00:00:00+01:00</th>\n",
       "      <td>146.464005</td>\n",
       "      <td>147.343994</td>\n",
       "      <td>145.852005</td>\n",
       "      <td>146.464005</td>\n",
       "      <td>0</td>\n",
       "      <td>0.0</td>\n",
       "      <td>0.0</td>\n",
       "    </tr>\n",
       "    <tr>\n",
       "      <th>2023-08-30 00:00:00+01:00</th>\n",
       "      <td>145.988007</td>\n",
       "      <td>146.522995</td>\n",
       "      <td>145.557999</td>\n",
       "      <td>145.988007</td>\n",
       "      <td>0</td>\n",
       "      <td>0.0</td>\n",
       "      <td>0.0</td>\n",
       "    </tr>\n",
       "    <tr>\n",
       "      <th>2023-08-31 00:00:00+01:00</th>\n",
       "      <td>146.098999</td>\n",
       "      <td>146.190994</td>\n",
       "      <td>145.531006</td>\n",
       "      <td>146.098999</td>\n",
       "      <td>0</td>\n",
       "      <td>0.0</td>\n",
       "      <td>0.0</td>\n",
       "    </tr>\n",
       "    <tr>\n",
       "      <th>2023-09-01 00:00:00+01:00</th>\n",
       "      <td>145.473007</td>\n",
       "      <td>146.227005</td>\n",
       "      <td>144.481995</td>\n",
       "      <td>145.473007</td>\n",
       "      <td>0</td>\n",
       "      <td>0.0</td>\n",
       "      <td>0.0</td>\n",
       "    </tr>\n",
       "  </tbody>\n",
       "</table>\n",
       "</div>"
      ],
      "text/plain": [
       "                                 Open        High         Low       Close  \\\n",
       "Date                                                                        \n",
       "2023-08-28 00:00:00+01:00  146.531006  146.716003  146.278000  146.531006   \n",
       "2023-08-29 00:00:00+01:00  146.464005  147.343994  145.852005  146.464005   \n",
       "2023-08-30 00:00:00+01:00  145.988007  146.522995  145.557999  145.988007   \n",
       "2023-08-31 00:00:00+01:00  146.098999  146.190994  145.531006  146.098999   \n",
       "2023-09-01 00:00:00+01:00  145.473007  146.227005  144.481995  145.473007   \n",
       "\n",
       "                           Volume  Dividends  Stock Splits  \n",
       "Date                                                        \n",
       "2023-08-28 00:00:00+01:00       0        0.0           0.0  \n",
       "2023-08-29 00:00:00+01:00       0        0.0           0.0  \n",
       "2023-08-30 00:00:00+01:00       0        0.0           0.0  \n",
       "2023-08-31 00:00:00+01:00       0        0.0           0.0  \n",
       "2023-09-01 00:00:00+01:00       0        0.0           0.0  "
      ]
     },
     "execution_count": 2,
     "metadata": {},
     "output_type": "execute_result"
    }
   ],
   "source": [
    "#use to to look at the data for 1 ticker\n",
    "ticker = yf.Ticker('JPY=X')\n",
    "df = ticker.history(period = '6mo', interval='1d')\n",
    "df.head()"
   ]
  },
  {
   "cell_type": "code",
   "execution_count": 3,
   "metadata": {},
   "outputs": [],
   "source": [
    "# function to format in a useable df, only keeping the date part of datetime to avoid time-caused errors\n",
    "# also we found that from yfinanve the 'Date' column was actually an index, so converted it to a column\n",
    "def get_stock_data_to_df(ticker):\n",
    "    ticker = yf.Ticker(str(ticker))\n",
    "    df = ticker.history(period = '6mo', interval='1d')\n",
    "    df.reset_index(inplace=True)\n",
    "    df[\"timestamp_processed\"] = [e.strftime('%Y-%m-%d') for e in df[\"Date\"]]\n",
    "    return df\n",
    "\n",
    "# making the data stionary to fit the assumption. logging the price for the column given and taking the diffence\n",
    "# created a new column for that called 'stationary'\n",
    "def stationaryize(df : pd.DataFrame, time) -> pd.DataFrame:\n",
    "    df['stationary'] = (np.log(df[time])).diff()\n",
    "    df = df.dropna(how = 'any', axis = 0, )\n",
    "    return df\n",
    "\n",
    "\n",
    "def get_clean_data(ticker, time) -> pd.DataFrame:\n",
    "    return stationaryize(get_stock_data_to_df(ticker.upper()), time)\n",
    "\n",
    "\n",
    "# main function here which takes in 2 tickers and the open/close/high/low column, and merges the stationary columnms for each on the timestamp column\n",
    "\n",
    "def merge_df(ticker1, ticker2, open_or_close):\n",
    "    df1 = get_clean_data(ticker1, open_or_close)\n",
    "    # print(\"df of  \" + ticker1 + \" \" + str(np.shape(df1)))\n",
    "    # print(\"df of \" + ticker1)\n",
    "    # print(df1.head())\n",
    "    df2 = get_clean_data(ticker2, open_or_close)\n",
    "    # print(\"df of  \" + ticker2 + \" \" + str(np.shape(df2)))\n",
    "    # print(\"df of \" + ticker2)\n",
    "    # print(df2.head())\n",
    "    # return pd.merge(df1[['stationary']], df2[['stationary']], left_index=True, right_index=True, how='right').rename(columns={'stationary_x': ticker1, 'stationary_y': ticker2}).dropna(how='any')\n",
    "    return pd.merge(df1[['timestamp_processed', 'stationary']], df2[['timestamp_processed', 'stationary']], on='timestamp_processed', how='right').rename(columns = {'stationary_x': ticker1, 'stationary_y': ticker2}).dropna(how='any')\n"
   ]
  },
  {
   "cell_type": "code",
   "execution_count": 4,
   "metadata": {},
   "outputs": [
    {
     "name": "stderr",
     "output_type": "stream",
     "text": [
      "C:\\Users\\ashkm\\AppData\\Local\\Packages\\PythonSoftwareFoundation.Python.3.10_qbz5n2kfra8p0\\LocalCache\\local-packages\\Python310\\site-packages\\yfinance\\utils.py:775: FutureWarning: The 'unit' keyword in TimedeltaIndex construction is deprecated and will be removed in a future version. Use pd.to_timedelta instead.\n",
      "  df.index += _pd.TimedeltaIndex(dst_error_hours, 'h')\n",
      "C:\\Users\\ashkm\\AppData\\Local\\Packages\\PythonSoftwareFoundation.Python.3.10_qbz5n2kfra8p0\\LocalCache\\local-packages\\Python310\\site-packages\\yfinance\\utils.py:775: FutureWarning: The 'unit' keyword in TimedeltaIndex construction is deprecated and will be removed in a future version. Use pd.to_timedelta instead.\n",
      "  df.index += _pd.TimedeltaIndex(dst_error_hours, 'h')\n"
     ]
    },
    {
     "data": {
      "text/html": [
       "<div>\n",
       "<style scoped>\n",
       "    .dataframe tbody tr th:only-of-type {\n",
       "        vertical-align: middle;\n",
       "    }\n",
       "\n",
       "    .dataframe tbody tr th {\n",
       "        vertical-align: top;\n",
       "    }\n",
       "\n",
       "    .dataframe thead th {\n",
       "        text-align: right;\n",
       "    }\n",
       "</style>\n",
       "<table border=\"1\" class=\"dataframe\">\n",
       "  <thead>\n",
       "    <tr style=\"text-align: right;\">\n",
       "      <th></th>\n",
       "      <th>timestamp_processed</th>\n",
       "      <th>^TNX</th>\n",
       "      <th>^GSPC</th>\n",
       "    </tr>\n",
       "  </thead>\n",
       "  <tbody>\n",
       "    <tr>\n",
       "      <th>0</th>\n",
       "      <td>2023-08-29</td>\n",
       "      <td>-0.021599</td>\n",
       "      <td>0.014404</td>\n",
       "    </tr>\n",
       "    <tr>\n",
       "      <th>1</th>\n",
       "      <td>2023-08-30</td>\n",
       "      <td>-0.000971</td>\n",
       "      <td>0.003826</td>\n",
       "    </tr>\n",
       "    <tr>\n",
       "      <th>2</th>\n",
       "      <td>2023-08-31</td>\n",
       "      <td>-0.006089</td>\n",
       "      <td>-0.001598</td>\n",
       "    </tr>\n",
       "    <tr>\n",
       "      <th>3</th>\n",
       "      <td>2023-09-01</td>\n",
       "      <td>0.019357</td>\n",
       "      <td>0.001798</td>\n",
       "    </tr>\n",
       "    <tr>\n",
       "      <th>4</th>\n",
       "      <td>2023-09-05</td>\n",
       "      <td>0.022510</td>\n",
       "      <td>-0.004203</td>\n",
       "    </tr>\n",
       "    <tr>\n",
       "      <th>...</th>\n",
       "      <td>...</td>\n",
       "      <td>...</td>\n",
       "      <td>...</td>\n",
       "    </tr>\n",
       "    <tr>\n",
       "      <th>119</th>\n",
       "      <td>2024-02-20</td>\n",
       "      <td>-0.004667</td>\n",
       "      <td>-0.006023</td>\n",
       "    </tr>\n",
       "    <tr>\n",
       "      <th>120</th>\n",
       "      <td>2024-02-21</td>\n",
       "      <td>0.011628</td>\n",
       "      <td>0.001263</td>\n",
       "    </tr>\n",
       "    <tr>\n",
       "      <th>121</th>\n",
       "      <td>2024-02-22</td>\n",
       "      <td>0.000462</td>\n",
       "      <td>0.020903</td>\n",
       "    </tr>\n",
       "    <tr>\n",
       "      <th>122</th>\n",
       "      <td>2024-02-23</td>\n",
       "      <td>-0.015605</td>\n",
       "      <td>0.000348</td>\n",
       "    </tr>\n",
       "    <tr>\n",
       "      <th>123</th>\n",
       "      <td>2024-02-26</td>\n",
       "      <td>0.009113</td>\n",
       "      <td>-0.003794</td>\n",
       "    </tr>\n",
       "  </tbody>\n",
       "</table>\n",
       "<p>124 rows × 3 columns</p>\n",
       "</div>"
      ],
      "text/plain": [
       "    timestamp_processed      ^TNX     ^GSPC\n",
       "0            2023-08-29 -0.021599  0.014404\n",
       "1            2023-08-30 -0.000971  0.003826\n",
       "2            2023-08-31 -0.006089 -0.001598\n",
       "3            2023-09-01  0.019357  0.001798\n",
       "4            2023-09-05  0.022510 -0.004203\n",
       "..                  ...       ...       ...\n",
       "119          2024-02-20 -0.004667 -0.006023\n",
       "120          2024-02-21  0.011628  0.001263\n",
       "121          2024-02-22  0.000462  0.020903\n",
       "122          2024-02-23 -0.015605  0.000348\n",
       "123          2024-02-26  0.009113 -0.003794\n",
       "\n",
       "[124 rows x 3 columns]"
      ]
     },
     "execution_count": 4,
     "metadata": {},
     "output_type": "execute_result"
    }
   ],
   "source": [
    "merge_df('^TNX', '^GSPC', 'Close')"
   ]
  },
  {
   "cell_type": "code",
   "execution_count": 50,
   "metadata": {},
   "outputs": [],
   "source": [
    "# function for the granger test. takes in the tickers, time(open/close/high/low), and lag, and calls merge_df function. returns the test\n",
    "\n",
    "\n",
    "def granger_causality(ticker1, ticker2, time, lag):\n",
    "    df = merge_df(ticker1, ticker2, time)\n",
    "    # if len(df[ticker1]) != len(df[ticker2]):\n",
    "    # minrows = min(len(df[ticker1]), len(df[ticker2]))\n",
    "    # df = df.iloc[:,:minrows]\n",
    "    #print(np.shape(df))\n",
    "    return grangercausalitytests(df[[ticker1, ticker2]], lag)"
   ]
  },
  {
   "cell_type": "code",
   "execution_count": 51,
   "metadata": {},
   "outputs": [
    {
     "name": "stdout",
     "output_type": "stream",
     "text": [
      "\n",
      "Granger Causality\n",
      "number of lags (no zero) 1\n",
      "ssr based F test:         F=1.1899  , p=0.2775  , df_denom=120, df_num=1\n",
      "ssr based chi2 test:   chi2=1.2197  , p=0.2694  , df=1\n",
      "likelihood ratio test: chi2=1.2137  , p=0.2706  , df=1\n",
      "parameter F test:         F=1.1899  , p=0.2775  , df_denom=120, df_num=1\n",
      "\n",
      "Granger Causality\n",
      "number of lags (no zero) 2\n",
      "ssr based F test:         F=1.0251  , p=0.3619  , df_denom=117, df_num=2\n",
      "ssr based chi2 test:   chi2=2.1379  , p=0.3434  , df=2\n",
      "likelihood ratio test: chi2=2.1194  , p=0.3466  , df=2\n",
      "parameter F test:         F=1.0251  , p=0.3619  , df_denom=117, df_num=2\n",
      "\n",
      "Granger Causality\n",
      "number of lags (no zero) 3\n",
      "ssr based F test:         F=0.4144  , p=0.7430  , df_denom=114, df_num=3\n",
      "ssr based chi2 test:   chi2=1.3196  , p=0.7245  , df=3\n",
      "likelihood ratio test: chi2=1.3124  , p=0.7262  , df=3\n",
      "parameter F test:         F=0.4144  , p=0.7430  , df_denom=114, df_num=3\n",
      "\n",
      "Granger Causality\n",
      "number of lags (no zero) 4\n",
      "ssr based F test:         F=0.4832  , p=0.7480  , df_denom=111, df_num=4\n",
      "ssr based chi2 test:   chi2=2.0895  , p=0.7193  , df=4\n",
      "likelihood ratio test: chi2=2.0715  , p=0.7226  , df=4\n",
      "parameter F test:         F=0.4832  , p=0.7480  , df_denom=111, df_num=4\n"
     ]
    },
    {
     "name": "stderr",
     "output_type": "stream",
     "text": [
      "C:\\Users\\ashkm\\AppData\\Local\\Packages\\PythonSoftwareFoundation.Python.3.10_qbz5n2kfra8p0\\LocalCache\\local-packages\\Python310\\site-packages\\yfinance\\utils.py:775: FutureWarning: The 'unit' keyword in TimedeltaIndex construction is deprecated and will be removed in a future version. Use pd.to_timedelta instead.\n",
      "  df.index += _pd.TimedeltaIndex(dst_error_hours, 'h')\n",
      "C:\\Users\\ashkm\\AppData\\Local\\Packages\\PythonSoftwareFoundation.Python.3.10_qbz5n2kfra8p0\\LocalCache\\local-packages\\Python310\\site-packages\\yfinance\\utils.py:775: FutureWarning: The 'unit' keyword in TimedeltaIndex construction is deprecated and will be removed in a future version. Use pd.to_timedelta instead.\n",
      "  df.index += _pd.TimedeltaIndex(dst_error_hours, 'h')\n"
     ]
    },
    {
     "data": {
      "text/plain": [
       "{1: ({'ssr_ftest': (1.1899273166759798, 0.27752969703960295, 120.0, 1),\n",
       "   'ssr_chi2test': (1.2196754995928791, 0.2694243447484484, 1),\n",
       "   'lrtest': (1.2136679925091585, 0.2706069001487983, 1),\n",
       "   'params_ftest': (1.1899273166760072, 0.2775296970395981, 120.0, 1.0)},\n",
       "  [<statsmodels.regression.linear_model.RegressionResultsWrapper at 0x1816c519810>,\n",
       "   <statsmodels.regression.linear_model.RegressionResultsWrapper at 0x1816c519ea0>,\n",
       "   array([[0., 1., 0.]])]),\n",
       " 2: ({'ssr_ftest': (1.0251472496757352, 0.3619429975769713, 117.0, 2),\n",
       "   'ssr_chi2test': (2.1379139224006787, 0.3433664752604946, 2),\n",
       "   'lrtest': (2.1193976490103523, 0.3465601700446738, 2),\n",
       "   'params_ftest': (1.0251472496757386, 0.3619429975769689, 117.0, 2.0)},\n",
       "  [<statsmodels.regression.linear_model.RegressionResultsWrapper at 0x1816c518790>,\n",
       "   <statsmodels.regression.linear_model.RegressionResultsWrapper at 0x1816c519c30>,\n",
       "   array([[0., 0., 1., 0., 0.],\n",
       "          [0., 0., 0., 1., 0.]])]),\n",
       " 3: ({'ssr_ftest': (0.41440806250747747, 0.742975234183745, 114.0, 3),\n",
       "   'ssr_chi2test': (1.3195625148264412, 0.7244930885874101, 3),\n",
       "   'lrtest': (1.312419174027582, 0.7261861543821118, 3),\n",
       "   'params_ftest': (0.41440806250747725, 0.742975234183745, 114.0, 3.0)},\n",
       "  [<statsmodels.regression.linear_model.RegressionResultsWrapper at 0x1816c519030>,\n",
       "   <statsmodels.regression.linear_model.RegressionResultsWrapper at 0x1816c518250>,\n",
       "   array([[0., 0., 0., 1., 0., 0., 0.],\n",
       "          [0., 0., 0., 0., 1., 0., 0.],\n",
       "          [0., 0., 0., 0., 0., 1., 0.]])]),\n",
       " 4: ({'ssr_ftest': (0.48320322688608114, 0.7480181930743455, 111.0, 4),\n",
       "   'ssr_chi2test': (2.0895274676154862, 0.7192966031360571, 4),\n",
       "   'lrtest': (2.0715437436175534, 0.7226019030600301, 4),\n",
       "   'params_ftest': (0.4832032268860792, 0.7480181930743477, 111.0, 4.0)},\n",
       "  [<statsmodels.regression.linear_model.RegressionResultsWrapper at 0x1816c519cc0>,\n",
       "   <statsmodels.regression.linear_model.RegressionResultsWrapper at 0x1816c51b1f0>,\n",
       "   array([[0., 0., 0., 0., 1., 0., 0., 0., 0.],\n",
       "          [0., 0., 0., 0., 0., 1., 0., 0., 0.],\n",
       "          [0., 0., 0., 0., 0., 0., 1., 0., 0.],\n",
       "          [0., 0., 0., 0., 0., 0., 0., 1., 0.]])])}"
      ]
     },
     "execution_count": 51,
     "metadata": {},
     "output_type": "execute_result"
    }
   ],
   "source": [
    "granger_causality('TSLA', 'AAPL', 'Open', 4)"
   ]
  },
  {
   "cell_type": "code",
   "execution_count": 52,
   "metadata": {},
   "outputs": [
    {
     "name": "stdout",
     "output_type": "stream",
     "text": [
      "\n",
      "Granger Causality\n",
      "number of lags (no zero) 1\n",
      "ssr based F test:         F=0.0640  , p=0.8007  , df_denom=120, df_num=1\n",
      "ssr based chi2 test:   chi2=0.0656  , p=0.7978  , df=1\n",
      "likelihood ratio test: chi2=0.0656  , p=0.7979  , df=1\n",
      "parameter F test:         F=0.0640  , p=0.8007  , df_denom=120, df_num=1\n",
      "\n",
      "Granger Causality\n",
      "number of lags (no zero) 2\n",
      "ssr based F test:         F=3.2749  , p=0.0413  , df_denom=117, df_num=2\n",
      "ssr based chi2 test:   chi2=6.8297  , p=0.0329  , df=2\n",
      "likelihood ratio test: chi2=6.6454  , p=0.0361  , df=2\n",
      "parameter F test:         F=3.2749  , p=0.0413  , df_denom=117, df_num=2\n",
      "\n",
      "Granger Causality\n",
      "number of lags (no zero) 3\n",
      "ssr based F test:         F=2.7076  , p=0.0485  , df_denom=114, df_num=3\n",
      "ssr based chi2 test:   chi2=8.6215  , p=0.0348  , df=3\n",
      "likelihood ratio test: chi2=8.3282  , p=0.0397  , df=3\n",
      "parameter F test:         F=2.7076  , p=0.0485  , df_denom=114, df_num=3\n",
      "\n",
      "Granger Causality\n",
      "number of lags (no zero) 4\n",
      "ssr based F test:         F=2.0541  , p=0.0917  , df_denom=111, df_num=4\n",
      "ssr based chi2 test:   chi2=8.8828  , p=0.0641  , df=4\n",
      "likelihood ratio test: chi2=8.5694  , p=0.0728  , df=4\n",
      "parameter F test:         F=2.0541  , p=0.0917  , df_denom=111, df_num=4\n"
     ]
    },
    {
     "name": "stderr",
     "output_type": "stream",
     "text": [
      "C:\\Users\\ashkm\\AppData\\Local\\Packages\\PythonSoftwareFoundation.Python.3.10_qbz5n2kfra8p0\\LocalCache\\local-packages\\Python310\\site-packages\\yfinance\\utils.py:775: FutureWarning: The 'unit' keyword in TimedeltaIndex construction is deprecated and will be removed in a future version. Use pd.to_timedelta instead.\n",
      "  df.index += _pd.TimedeltaIndex(dst_error_hours, 'h')\n",
      "C:\\Users\\ashkm\\AppData\\Local\\Packages\\PythonSoftwareFoundation.Python.3.10_qbz5n2kfra8p0\\LocalCache\\local-packages\\Python310\\site-packages\\yfinance\\utils.py:775: FutureWarning: The 'unit' keyword in TimedeltaIndex construction is deprecated and will be removed in a future version. Use pd.to_timedelta instead.\n",
      "  df.index += _pd.TimedeltaIndex(dst_error_hours, 'h')\n"
     ]
    },
    {
     "data": {
      "text/plain": [
       "{1: ({'ssr_ftest': (0.06401272682270631, 0.8006954335380561, 120.0, 1),\n",
       "   'ssr_chi2test': (0.06561304499327397, 0.7978346797197604, 1),\n",
       "   'lrtest': (0.06559555092303526, 0.797861048436457, 1),\n",
       "   'params_ftest': (0.06401272682269271, 0.8006954335380764, 120.0, 1.0)},\n",
       "  [<statsmodels.regression.linear_model.RegressionResultsWrapper at 0x1816c5199f0>,\n",
       "   <statsmodels.regression.linear_model.RegressionResultsWrapper at 0x1816c518df0>,\n",
       "   array([[0., 1., 0.]])]),\n",
       " 2: ({'ssr_ftest': (3.274888057601406, 0.04131598309980075, 117.0, 2),\n",
       "   'ssr_chi2test': (6.829681077390967, 0.03288164963422522, 2),\n",
       "   'lrtest': (6.645362635452898, 0.036056024369081084, 2),\n",
       "   'params_ftest': (3.2748880576014083, 0.04131598309980075, 117.0, 2.0)},\n",
       "  [<statsmodels.regression.linear_model.RegressionResultsWrapper at 0x1816c5188b0>,\n",
       "   <statsmodels.regression.linear_model.RegressionResultsWrapper at 0x1816c51ad10>,\n",
       "   array([[0., 0., 1., 0., 0.],\n",
       "          [0., 0., 0., 1., 0.]])]),\n",
       " 3: ({'ssr_ftest': (2.707566578832429, 0.04854785592024153, 114.0, 3),\n",
       "   'ssr_chi2test': (8.621462001019049, 0.034771033172953866, 3),\n",
       "   'lrtest': (8.328167002951659, 0.03969470479773607, 3),\n",
       "   'params_ftest': (2.707566578832427, 0.04854785592024153, 114.0, 3.0)},\n",
       "  [<statsmodels.regression.linear_model.RegressionResultsWrapper at 0x1816c5e44f0>,\n",
       "   <statsmodels.regression.linear_model.RegressionResultsWrapper at 0x1816c5e5d50>,\n",
       "   array([[0., 0., 0., 1., 0., 0., 0.],\n",
       "          [0., 0., 0., 0., 1., 0., 0.],\n",
       "          [0., 0., 0., 0., 0., 1., 0.]])]),\n",
       " 4: ({'ssr_ftest': (2.0541441597573145, 0.09167507624332409, 111.0, 4),\n",
       "   'ssr_chi2test': (8.882785555707306, 0.06409699959034826, 4),\n",
       "   'lrtest': (8.569393129660284, 0.07281150055725079, 4),\n",
       "   'params_ftest': (2.054144159757304, 0.09167507624332578, 111.0, 4.0)},\n",
       "  [<statsmodels.regression.linear_model.RegressionResultsWrapper at 0x1816c5e5b10>,\n",
       "   <statsmodels.regression.linear_model.RegressionResultsWrapper at 0x1816c5e4370>,\n",
       "   array([[0., 0., 0., 0., 1., 0., 0., 0., 0.],\n",
       "          [0., 0., 0., 0., 0., 1., 0., 0., 0.],\n",
       "          [0., 0., 0., 0., 0., 0., 1., 0., 0.],\n",
       "          [0., 0., 0., 0., 0., 0., 0., 1., 0.]])])}"
      ]
     },
     "execution_count": 52,
     "metadata": {},
     "output_type": "execute_result"
    }
   ],
   "source": [
    "granger_causality('^TNX', '^GSPC', 'Close', 4)"
   ]
  },
  {
   "cell_type": "code",
   "execution_count": null,
   "metadata": {},
   "outputs": [],
   "source": [
    "granger_causality(\"amx\", 'aapl', 'Close', 7)"
   ]
  },
  {
   "cell_type": "code",
   "execution_count": 17,
   "metadata": {},
   "outputs": [],
   "source": [
    "# def get_all_tickers(client) -> list[str]:\n",
    "#     response = client.get_snapshot_all('stocks')\n",
    "#     tickers = [i.ticker for i in response]\n",
    "#     return tickers\n",
    "# def get_test_results():\n",
    "#     tickers = get_all_tickers(client)\n",
    "#     all_correlations = [[-1 for i in range(len(tickers) - 1)] for j in range(len(tickers) - 1)]\n",
    "#     all_trials = len(tickers) * (len(tickers) - 1) // 2\n",
    "#     success = 0\n",
    "#     for ticker1 in range(len(tickers) - 1):\n",
    "#         for ticker2 in range(ticker1 + 1, len(tickers) - 1):\n",
    "#             print(f'{success} / {all_trials} done')\n",
    "#             t1 = tickers[ticker1]\n",
    "#             t2 = tickers[ticker2]\n",
    "#             try:\n",
    "#                 merged = merge_df(t1, t2,'close')\n",
    "#                 test = grangercausalitytests(merged[[t1, t2]], 7)\n",
    "#                 best_corr = max(test, key = lambda x: x[1][0]['ssr_ftest'][1])\n",
    "#                 success += 1\n",
    "#             except:\n",
    "#                 continue\n",
    "#             all_correlations[ticker1][ticker2] = best_corr[0]\n",
    "#     return all_correlations"
   ]
  },
  {
   "cell_type": "code",
   "execution_count": 18,
   "metadata": {},
   "outputs": [
    {
     "name": "stdout",
     "output_type": "stream",
     "text": [
      "getting all data correlations\n"
     ]
    },
    {
     "ename": "NameError",
     "evalue": "name 'client' is not defined",
     "output_type": "error",
     "traceback": [
      "\u001b[1;31m---------------------------------------------------------------------------\u001b[0m",
      "\u001b[1;31mNameError\u001b[0m                                 Traceback (most recent call last)",
      "Cell \u001b[1;32mIn[18], line 4\u001b[0m\n\u001b[0;32m      2\u001b[0m \u001b[38;5;28;01mimport\u001b[39;00m \u001b[38;5;21;01mmatplotlib\u001b[39;00m\u001b[38;5;21;01m.\u001b[39;00m\u001b[38;5;21;01mpyplot\u001b[39;00m \u001b[38;5;28;01mas\u001b[39;00m \u001b[38;5;21;01mplt\u001b[39;00m\n\u001b[0;32m      3\u001b[0m \u001b[38;5;28mprint\u001b[39m(\u001b[38;5;124m\"\u001b[39m\u001b[38;5;124mgetting all data correlations\u001b[39m\u001b[38;5;124m\"\u001b[39m)\n\u001b[1;32m----> 4\u001b[0m all_correlations \u001b[38;5;241m=\u001b[39m \u001b[43mget_test_results\u001b[49m\u001b[43m(\u001b[49m\u001b[43m)\u001b[49m\n\u001b[0;32m      5\u001b[0m \u001b[38;5;28mprint\u001b[39m(\u001b[38;5;124m\"\u001b[39m\u001b[38;5;124mdone getting all correlations\u001b[39m\u001b[38;5;124m\"\u001b[39m)\n\u001b[0;32m      6\u001b[0m plt\u001b[38;5;241m.\u001b[39mimshow(a, cmap\u001b[38;5;241m=\u001b[39m\u001b[38;5;124m'\u001b[39m\u001b[38;5;124mhot\u001b[39m\u001b[38;5;124m'\u001b[39m, interpolation\u001b[38;5;241m=\u001b[39m\u001b[38;5;124m'\u001b[39m\u001b[38;5;124mnearest\u001b[39m\u001b[38;5;124m'\u001b[39m)\n",
      "Cell \u001b[1;32mIn[17], line 6\u001b[0m, in \u001b[0;36mget_test_results\u001b[1;34m()\u001b[0m\n\u001b[0;32m      5\u001b[0m \u001b[38;5;28;01mdef\u001b[39;00m \u001b[38;5;21mget_test_results\u001b[39m():\n\u001b[1;32m----> 6\u001b[0m     tickers \u001b[38;5;241m=\u001b[39m get_all_tickers(\u001b[43mclient\u001b[49m)\n\u001b[0;32m      7\u001b[0m     all_correlations \u001b[38;5;241m=\u001b[39m [[\u001b[38;5;241m-\u001b[39m\u001b[38;5;241m1\u001b[39m \u001b[38;5;28;01mfor\u001b[39;00m i \u001b[38;5;129;01min\u001b[39;00m \u001b[38;5;28mrange\u001b[39m(\u001b[38;5;28mlen\u001b[39m(tickers) \u001b[38;5;241m-\u001b[39m \u001b[38;5;241m1\u001b[39m)] \u001b[38;5;28;01mfor\u001b[39;00m j \u001b[38;5;129;01min\u001b[39;00m \u001b[38;5;28mrange\u001b[39m(\u001b[38;5;28mlen\u001b[39m(tickers) \u001b[38;5;241m-\u001b[39m \u001b[38;5;241m1\u001b[39m)]\n\u001b[0;32m      8\u001b[0m     all_trials \u001b[38;5;241m=\u001b[39m \u001b[38;5;28mlen\u001b[39m(tickers) \u001b[38;5;241m*\u001b[39m (\u001b[38;5;28mlen\u001b[39m(tickers) \u001b[38;5;241m-\u001b[39m \u001b[38;5;241m1\u001b[39m) \u001b[38;5;241m/\u001b[39m\u001b[38;5;241m/\u001b[39m \u001b[38;5;241m2\u001b[39m\n",
      "\u001b[1;31mNameError\u001b[0m: name 'client' is not defined"
     ]
    }
   ],
   "source": [
    "# # %pip install matplotlib\n",
    "# import matplotlib.pyplot as plt\n",
    "# print(\"getting all data correlations\")\n",
    "# all_correlations = get_test_results()\n",
    "# print(\"done getting all correlations\")\n",
    "# plt.imshow(a, cmap='hot', interpolation='nearest')\n",
    "# plt.show()\n",
    "# plt.savefig('./big_correlation_map')"
   ]
  },
  {
   "cell_type": "code",
   "execution_count": 19,
   "metadata": {},
   "outputs": [],
   "source": [
    "ticker_lst = ['aapl', 'goog', 'amd', 'nvda', 'are', 'amx', 'cof', 'cvx', 'f', 'ma']"
   ]
  },
  {
   "cell_type": "code",
   "execution_count": 60,
   "metadata": {},
   "outputs": [],
   "source": [
    "def get_matrix_data(tickers):\n",
    "    correlations = [[-1 for i in range(len(tickers))] for j in range(len(tickers))]\n",
    "    for i in range(len(tickers)):\n",
    "        for j in range(len(tickers)):\n",
    "            if i != j:\n",
    "                correlations[i][j] = max(granger_causality(tickers[i], tickers[j], 'Close', 1).items(), key = lambda x: x[1])\n",
    "                \n",
    "    return correlations[0][1][1][0]['ssr_ftest'][1]        "
   ]
  },
  {
   "cell_type": "code",
   "execution_count": null,
   "metadata": {},
   "outputs": [],
   "source": []
  }
 ],
 "metadata": {
  "kernelspec": {
   "display_name": "Python 3",
   "language": "python",
   "name": "python3"
  },
  "language_info": {
   "codemirror_mode": {
    "name": "ipython",
    "version": 3
   },
   "file_extension": ".py",
   "mimetype": "text/x-python",
   "name": "python",
   "nbconvert_exporter": "python",
   "pygments_lexer": "ipython3",
   "version": "3.10.11"
  }
 },
 "nbformat": 4,
 "nbformat_minor": 2
}

{
 "cells": [
  {
   "cell_type": "code",
   "execution_count": 2,
   "metadata": {},
   "outputs": [],
   "source": [
    "import pandas as pd\n",
    "import yfinance as yf\n",
    "from datetime import date, timedelta\n",
    "from matplotlib import pyplot as plt"
   ]
  },
  {
   "cell_type": "code",
   "execution_count": 37,
   "metadata": {},
   "outputs": [
    {
     "name": "stdout",
     "output_type": "stream",
     "text": [
      "[*********************100%%**********************]  2 of 2 completed\n",
      "[*********************100%%**********************]  2 of 2 completed\n",
      "[*********************100%%**********************]  2 of 2 completed\n",
      "[*********************100%%**********************]  2 of 2 completed\n",
      "[*********************100%%**********************]  2 of 2 completed\n",
      "[*********************100%%**********************]  2 of 2 completed\n",
      "[*********************100%%**********************]  2 of 2 completed\n",
      "[*********************100%%**********************]  2 of 2 completed\n",
      "[*********************100%%**********************]  2 of 2 completed\n",
      "[*********************100%%**********************]  2 of 2 completed\n",
      "[*********************100%%**********************]  2 of 2 completed\n",
      "[*********************100%%**********************]  2 of 2 completed\n"
     ]
    },
    {
     "data": {
      "text/html": [
       "<div>\n",
       "<style scoped>\n",
       "    .dataframe tbody tr th:only-of-type {\n",
       "        vertical-align: middle;\n",
       "    }\n",
       "\n",
       "    .dataframe tbody tr th {\n",
       "        vertical-align: top;\n",
       "    }\n",
       "\n",
       "    .dataframe thead th {\n",
       "        text-align: right;\n",
       "    }\n",
       "</style>\n",
       "<table border=\"1\" class=\"dataframe\">\n",
       "  <thead>\n",
       "    <tr style=\"text-align: right;\">\n",
       "      <th></th>\n",
       "      <th>correlation</th>\n",
       "    </tr>\n",
       "  </thead>\n",
       "  <tbody>\n",
       "    <tr>\n",
       "      <th>^GSPC:USO</th>\n",
       "      <td>0.353010</td>\n",
       "    </tr>\n",
       "    <tr>\n",
       "      <th>USO:^GSPC</th>\n",
       "      <td>0.353010</td>\n",
       "    </tr>\n",
       "    <tr>\n",
       "      <th>^GSPC:^TNX</th>\n",
       "      <td>0.337545</td>\n",
       "    </tr>\n",
       "    <tr>\n",
       "      <th>^TNX:^GSPC</th>\n",
       "      <td>0.337545</td>\n",
       "    </tr>\n",
       "    <tr>\n",
       "      <th>^TNX:USO</th>\n",
       "      <td>0.226476</td>\n",
       "    </tr>\n",
       "    <tr>\n",
       "      <th>USO:^TNX</th>\n",
       "      <td>0.226476</td>\n",
       "    </tr>\n",
       "    <tr>\n",
       "      <th>^TNX:JPY=X</th>\n",
       "      <td>0.030028</td>\n",
       "    </tr>\n",
       "    <tr>\n",
       "      <th>JPY=X:^TNX</th>\n",
       "      <td>0.030028</td>\n",
       "    </tr>\n",
       "    <tr>\n",
       "      <th>^GSPC:JPY=X</th>\n",
       "      <td>-0.018407</td>\n",
       "    </tr>\n",
       "    <tr>\n",
       "      <th>JPY=X:^GSPC</th>\n",
       "      <td>-0.018407</td>\n",
       "    </tr>\n",
       "    <tr>\n",
       "      <th>USO:JPY=X</th>\n",
       "      <td>-0.020136</td>\n",
       "    </tr>\n",
       "    <tr>\n",
       "      <th>JPY=X:USO</th>\n",
       "      <td>-0.020136</td>\n",
       "    </tr>\n",
       "  </tbody>\n",
       "</table>\n",
       "</div>"
      ],
      "text/plain": [
       "             correlation\n",
       "^GSPC:USO       0.353010\n",
       "USO:^GSPC       0.353010\n",
       "^GSPC:^TNX      0.337545\n",
       "^TNX:^GSPC      0.337545\n",
       "^TNX:USO        0.226476\n",
       "USO:^TNX        0.226476\n",
       "^TNX:JPY=X      0.030028\n",
       "JPY=X:^TNX      0.030028\n",
       "^GSPC:JPY=X    -0.018407\n",
       "JPY=X:^GSPC    -0.018407\n",
       "USO:JPY=X      -0.020136\n",
       "JPY=X:USO      -0.020136"
      ]
     },
     "execution_count": 37,
     "metadata": {},
     "output_type": "execute_result"
    }
   ],
   "source": [
    "def corr_finder(a, b, t):\n",
    "    df = yf.download([a,b], start=date.today() - timedelta(5000), end=date.today() + timedelta(1), interval='1d')\n",
    "    df = df['Adj Close'].resample('D').last().dropna()\n",
    "    correlation = df[a].pct_change().corr(df[b].pct_change())\n",
    "    return correlation\n",
    "\n",
    "variables = ['^GSPC', '^TNX', 'USO', 'JPY=X']\n",
    "correlations = {}\n",
    "\n",
    "for a in variables:\n",
    "    for b in [x for x in variables if x != a]:\n",
    "        correlations[f'{a}:{b}'] = corr_finder(a, b, 100)\n",
    "\n",
    "df = pd.DataFrame.from_dict(correlations, orient='index', columns=['correlation'])\n",
    "df.sort_values('correlation', ascending=False)"
   ]
  },
  {
   "cell_type": "code",
   "execution_count": null,
   "metadata": {},
   "outputs": [],
   "source": []
  }
 ],
 "metadata": {
  "kernelspec": {
   "display_name": "Python 3",
   "language": "python",
   "name": "python3"
  },
  "language_info": {
   "codemirror_mode": {
    "name": "ipython",
    "version": 3
   },
   "file_extension": ".py",
   "mimetype": "text/x-python",
   "name": "python",
   "nbconvert_exporter": "python",
   "pygments_lexer": "ipython3",
   "version": "3.11.8"
  }
 },
 "nbformat": 4,
 "nbformat_minor": 2
}

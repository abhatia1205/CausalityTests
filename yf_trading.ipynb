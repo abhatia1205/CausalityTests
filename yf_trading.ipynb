{
 "cells": [
  {
   "cell_type": "code",
   "execution_count": 12,
   "metadata": {},
   "outputs": [
    {
     "name": "stdout",
     "output_type": "stream",
     "text": [
      "Requirement already satisfied: yfinance in c:\\2.19 pitch\\yearning\\.venv\\lib\\site-packages (0.2.36)\n",
      "Requirement already satisfied: pandas>=1.3.0 in c:\\2.19 pitch\\yearning\\.venv\\lib\\site-packages (from yfinance) (2.2.1)\n",
      "Requirement already satisfied: numpy>=1.16.5 in c:\\2.19 pitch\\yearning\\.venv\\lib\\site-packages (from yfinance) (1.26.4)\n",
      "Requirement already satisfied: requests>=2.31 in c:\\2.19 pitch\\yearning\\.venv\\lib\\site-packages (from yfinance) (2.31.0)\n",
      "Requirement already satisfied: multitasking>=0.0.7 in c:\\2.19 pitch\\yearning\\.venv\\lib\\site-packages (from yfinance) (0.0.11)\n",
      "Requirement already satisfied: lxml>=4.9.1 in c:\\2.19 pitch\\yearning\\.venv\\lib\\site-packages (from yfinance) (5.1.0)\n",
      "Requirement already satisfied: appdirs>=1.4.4 in c:\\2.19 pitch\\yearning\\.venv\\lib\\site-packages (from yfinance) (1.4.4)\n",
      "Requirement already satisfied: pytz>=2022.5 in c:\\2.19 pitch\\yearning\\.venv\\lib\\site-packages (from yfinance) (2024.1)\n",
      "Requirement already satisfied: frozendict>=2.3.4 in c:\\2.19 pitch\\yearning\\.venv\\lib\\site-packages (from yfinance) (2.4.0)\n",
      "Requirement already satisfied: peewee>=3.16.2 in c:\\2.19 pitch\\yearning\\.venv\\lib\\site-packages (from yfinance) (3.17.1)\n",
      "Requirement already satisfied: beautifulsoup4>=4.11.1 in c:\\2.19 pitch\\yearning\\.venv\\lib\\site-packages (from yfinance) (4.12.3)\n",
      "Requirement already satisfied: html5lib>=1.1 in c:\\2.19 pitch\\yearning\\.venv\\lib\\site-packages (from yfinance) (1.1)\n",
      "Requirement already satisfied: soupsieve>1.2 in c:\\2.19 pitch\\yearning\\.venv\\lib\\site-packages (from beautifulsoup4>=4.11.1->yfinance) (2.5)\n",
      "Requirement already satisfied: six>=1.9 in c:\\2.19 pitch\\yearning\\.venv\\lib\\site-packages (from html5lib>=1.1->yfinance) (1.16.0)\n",
      "Requirement already satisfied: webencodings in c:\\2.19 pitch\\yearning\\.venv\\lib\\site-packages (from html5lib>=1.1->yfinance) (0.5.1)\n",
      "Requirement already satisfied: python-dateutil>=2.8.2 in c:\\2.19 pitch\\yearning\\.venv\\lib\\site-packages (from pandas>=1.3.0->yfinance) (2.8.2)\n",
      "Requirement already satisfied: tzdata>=2022.7 in c:\\2.19 pitch\\yearning\\.venv\\lib\\site-packages (from pandas>=1.3.0->yfinance) (2024.1)\n",
      "Requirement already satisfied: charset-normalizer<4,>=2 in c:\\2.19 pitch\\yearning\\.venv\\lib\\site-packages (from requests>=2.31->yfinance) (3.3.2)\n",
      "Requirement already satisfied: idna<4,>=2.5 in c:\\2.19 pitch\\yearning\\.venv\\lib\\site-packages (from requests>=2.31->yfinance) (3.6)\n",
      "Requirement already satisfied: urllib3<3,>=1.21.1 in c:\\2.19 pitch\\yearning\\.venv\\lib\\site-packages (from requests>=2.31->yfinance) (1.26.18)\n",
      "Requirement already satisfied: certifi>=2017.4.17 in c:\\2.19 pitch\\yearning\\.venv\\lib\\site-packages (from requests>=2.31->yfinance) (2023.11.17)\n",
      "Note: you may need to restart the kernel to use updated packages.\n"
     ]
    },
    {
     "name": "stderr",
     "output_type": "stream",
     "text": [
      "\n",
      "[notice] A new release of pip is available: 23.2.1 -> 24.0\n",
      "[notice] To update, run: python.exe -m pip install --upgrade pip\n"
     ]
    },
    {
     "name": "stdout",
     "output_type": "stream",
     "text": [
      "Collecting matplotlib\n",
      "  Obtaining dependency information for matplotlib from https://files.pythonhosted.org/packages/50/ce/a6bc93f7a44dd1fd23698698e369e141f4f24e7098d0a5937808afee3f5e/matplotlib-3.8.3-cp312-cp312-win_amd64.whl.metadata\n",
      "  Downloading matplotlib-3.8.3-cp312-cp312-win_amd64.whl.metadata (5.9 kB)\n",
      "Collecting contourpy>=1.0.1 (from matplotlib)\n",
      "  Obtaining dependency information for contourpy>=1.0.1 from https://files.pythonhosted.org/packages/8e/ae/a6353db548bff1a592b85ae6bb80275f0a51dc25a0410d059e5b33183e36/contourpy-1.2.0-cp312-cp312-win_amd64.whl.metadata\n",
      "  Downloading contourpy-1.2.0-cp312-cp312-win_amd64.whl.metadata (5.8 kB)\n",
      "Collecting cycler>=0.10 (from matplotlib)\n",
      "  Obtaining dependency information for cycler>=0.10 from https://files.pythonhosted.org/packages/e7/05/c19819d5e3d95294a6f5947fb9b9629efb316b96de511b418c53d245aae6/cycler-0.12.1-py3-none-any.whl.metadata\n",
      "  Downloading cycler-0.12.1-py3-none-any.whl.metadata (3.8 kB)\n",
      "Collecting fonttools>=4.22.0 (from matplotlib)\n",
      "  Obtaining dependency information for fonttools>=4.22.0 from https://files.pythonhosted.org/packages/28/27/42f5cac9f5ee15ab65b3fd939e37a115a0a5e367fcabde5b901599daa85a/fonttools-4.49.0-cp312-cp312-win_amd64.whl.metadata\n",
      "  Downloading fonttools-4.49.0-cp312-cp312-win_amd64.whl.metadata (162 kB)\n",
      "     ---------------------------------------- 0.0/162.3 kB ? eta -:--:--\n",
      "     -- ------------------------------------- 10.2/162.3 kB ? eta -:--:--\n",
      "     --------- --------------------------- 41.0/162.3 kB 487.6 kB/s eta 0:00:01\n",
      "     -------------------------------------- 162.3/162.3 kB 1.4 MB/s eta 0:00:00\n",
      "Collecting kiwisolver>=1.3.1 (from matplotlib)\n",
      "  Obtaining dependency information for kiwisolver>=1.3.1 from https://files.pythonhosted.org/packages/63/50/2746566bdf4a6a842d117367d05c90cfb87ac04e9e2845aa1fa21f071362/kiwisolver-1.4.5-cp312-cp312-win_amd64.whl.metadata\n",
      "  Downloading kiwisolver-1.4.5-cp312-cp312-win_amd64.whl.metadata (6.5 kB)\n",
      "Requirement already satisfied: numpy<2,>=1.21 in c:\\2.19 pitch\\yearning\\.venv\\lib\\site-packages (from matplotlib) (1.26.4)\n",
      "Requirement already satisfied: packaging>=20.0 in c:\\2.19 pitch\\yearning\\.venv\\lib\\site-packages (from matplotlib) (23.2)\n",
      "Collecting pillow>=8 (from matplotlib)\n",
      "  Obtaining dependency information for pillow>=8 from https://files.pythonhosted.org/packages/51/07/7e9266a59bb267b56c1f432f6416653b9a78dda771c57740d064a8aa2a44/pillow-10.2.0-cp312-cp312-win_amd64.whl.metadata\n",
      "  Downloading pillow-10.2.0-cp312-cp312-win_amd64.whl.metadata (9.9 kB)\n",
      "Collecting pyparsing>=2.3.1 (from matplotlib)\n",
      "  Obtaining dependency information for pyparsing>=2.3.1 from https://files.pythonhosted.org/packages/39/92/8486ede85fcc088f1b3dba4ce92dd29d126fd96b0008ea213167940a2475/pyparsing-3.1.1-py3-none-any.whl.metadata\n",
      "  Downloading pyparsing-3.1.1-py3-none-any.whl.metadata (5.1 kB)\n",
      "Requirement already satisfied: python-dateutil>=2.7 in c:\\2.19 pitch\\yearning\\.venv\\lib\\site-packages (from matplotlib) (2.8.2)\n",
      "Requirement already satisfied: six>=1.5 in c:\\2.19 pitch\\yearning\\.venv\\lib\\site-packages (from python-dateutil>=2.7->matplotlib) (1.16.0)\n",
      "Downloading matplotlib-3.8.3-cp312-cp312-win_amd64.whl (7.6 MB)\n",
      "   ---------------------------------------- 0.0/7.6 MB ? eta -:--:--\n",
      "   - -------------------------------------- 0.2/7.6 MB 12.3 MB/s eta 0:00:01\n",
      "   - -------------------------------------- 0.4/7.6 MB 3.7 MB/s eta 0:00:02\n",
      "   -- ------------------------------------- 0.5/7.6 MB 4.1 MB/s eta 0:00:02\n",
      "   --- ------------------------------------ 0.7/7.6 MB 3.4 MB/s eta 0:00:03\n",
      "   ---- ----------------------------------- 0.9/7.6 MB 4.2 MB/s eta 0:00:02\n",
      "   ----- ---------------------------------- 1.1/7.6 MB 3.8 MB/s eta 0:00:02\n",
      "   ------- -------------------------------- 1.4/7.6 MB 4.2 MB/s eta 0:00:02\n",
      "   -------- ------------------------------- 1.5/7.6 MB 4.1 MB/s eta 0:00:02\n",
      "   ---------- ----------------------------- 2.0/7.6 MB 4.7 MB/s eta 0:00:02\n",
      "   ----------- ---------------------------- 2.2/7.6 MB 4.5 MB/s eta 0:00:02\n",
      "   -------------- ------------------------- 2.7/7.6 MB 5.0 MB/s eta 0:00:01\n",
      "   --------------- ------------------------ 2.9/7.6 MB 5.0 MB/s eta 0:00:01\n",
      "   ----------------- ---------------------- 3.3/7.6 MB 5.2 MB/s eta 0:00:01\n",
      "   ------------------ --------------------- 3.5/7.6 MB 5.1 MB/s eta 0:00:01\n",
      "   -------------------- ------------------- 4.0/7.6 MB 5.4 MB/s eta 0:00:01\n",
      "   --------------------- ------------------ 4.2/7.6 MB 5.3 MB/s eta 0:00:01\n",
      "   ------------------------- -------------- 4.8/7.6 MB 5.8 MB/s eta 0:00:01\n",
      "   ------------------------- -------------- 5.0/7.6 MB 5.9 MB/s eta 0:00:01\n",
      "   ---------------------------- ----------- 5.4/7.6 MB 5.9 MB/s eta 0:00:01\n",
      "   ------------------------------ --------- 5.9/7.6 MB 6.2 MB/s eta 0:00:01\n",
      "   --------------------------------- ------ 6.5/7.6 MB 6.4 MB/s eta 0:00:01\n",
      "   ------------------------------------- -- 7.1/7.6 MB 6.8 MB/s eta 0:00:01\n",
      "   ---------------------------------------  7.5/7.6 MB 6.9 MB/s eta 0:00:01\n",
      "   ---------------------------------------- 7.6/7.6 MB 6.8 MB/s eta 0:00:00\n",
      "Downloading contourpy-1.2.0-cp312-cp312-win_amd64.whl (187 kB)\n",
      "   ---------------------------------------- 0.0/187.7 kB ? eta -:--:--\n",
      "   --------------------------------------- 187.7/187.7 kB 11.1 MB/s eta 0:00:00\n",
      "Downloading cycler-0.12.1-py3-none-any.whl (8.3 kB)\n",
      "Downloading fonttools-4.49.0-cp312-cp312-win_amd64.whl (2.2 MB)\n",
      "   ---------------------------------------- 0.0/2.2 MB ? eta -:--:--\n",
      "   ------------ --------------------------- 0.7/2.2 MB 21.1 MB/s eta 0:00:01\n",
      "   ----------------- ---------------------- 1.0/2.2 MB 10.1 MB/s eta 0:00:01\n",
      "   ----------------------------------- ---- 1.9/2.2 MB 13.6 MB/s eta 0:00:01\n",
      "   ---------------------------------------  2.2/2.2 MB 12.5 MB/s eta 0:00:01\n",
      "   ---------------------------------------- 2.2/2.2 MB 11.5 MB/s eta 0:00:00\n",
      "Downloading kiwisolver-1.4.5-cp312-cp312-win_amd64.whl (56 kB)\n",
      "   ---------------------------------------- 0.0/56.0 kB ? eta -:--:--\n",
      "   ---------------------------------------- 56.0/56.0 kB 3.1 MB/s eta 0:00:00\n",
      "Downloading pillow-10.2.0-cp312-cp312-win_amd64.whl (2.6 MB)\n",
      "   ---------------------------------------- 0.0/2.6 MB ? eta -:--:--\n",
      "   --- ------------------------------------ 0.3/2.6 MB 7.9 MB/s eta 0:00:01\n",
      "   -------------------- ------------------- 1.3/2.6 MB 16.9 MB/s eta 0:00:01\n",
      "   ----------------------------- ---------- 1.9/2.6 MB 17.5 MB/s eta 0:00:01\n",
      "   ---------------------------------------  2.6/2.6 MB 15.2 MB/s eta 0:00:01\n",
      "   ---------------------------------------- 2.6/2.6 MB 15.2 MB/s eta 0:00:00\n",
      "Downloading pyparsing-3.1.1-py3-none-any.whl (103 kB)\n",
      "   ---------------------------------------- 0.0/103.1 kB ? eta -:--:--\n",
      "   ---------------------------------------- 103.1/103.1 kB 5.8 MB/s eta 0:00:00\n",
      "Installing collected packages: pyparsing, pillow, kiwisolver, fonttools, cycler, contourpy, matplotlib\n",
      "Successfully installed contourpy-1.2.0 cycler-0.12.1 fonttools-4.49.0 kiwisolver-1.4.5 matplotlib-3.8.3 pillow-10.2.0 pyparsing-3.1.1\n",
      "Note: you may need to restart the kernel to use updated packages.\n"
     ]
    },
    {
     "name": "stderr",
     "output_type": "stream",
     "text": [
      "\n",
      "[notice] A new release of pip is available: 23.2.1 -> 24.0\n",
      "[notice] To update, run: python.exe -m pip install --upgrade pip\n"
     ]
    }
   ],
   "source": [
    "%pip install yfinance\n",
    "%pip install matplotlib"
   ]
  },
  {
   "cell_type": "code",
   "execution_count": 13,
   "metadata": {},
   "outputs": [],
   "source": [
    "import pandas as pd\n",
    "import yfinance as yf\n",
    "from datetime import date, timedelta\n",
    "from matplotlib import pyplot as plt"
   ]
  },
  {
   "cell_type": "code",
   "execution_count": 14,
   "metadata": {},
   "outputs": [],
   "source": [
    "import numpy as np"
   ]
  },
  {
   "cell_type": "code",
   "execution_count": null,
   "metadata": {},
   "outputs": [],
   "source": [
    "def corr_finder(a, b, t):\n",
    "    df = yf.download([a,b], start=date.today() - timedelta(5000), end=date.today() + timedelta(1), interval='1d')\n",
    "    df = df['Adj Close'].resample('D').last().dropna()\n",
    "    correlation = df[a].pct_change().corr(df[b].pct_change())\n",
    "    return correlation\n",
    "\n",
    "variables = ['^GSPC', '^TNX', 'USO', 'JPY=X']\n",
    "correlations = {}\n",
    "\n",
    "for a in variables:\n",
    "    for b in [x for x in variables if x != a]:\n",
    "        correlations[f'{a}:{b}'] = corr_finder(a, b, 100)\n",
    "\n",
    "df = pd.DataFrame.from_dict(correlations, orient='index', columns=['correlation'])\n",
    "df.sort_values('correlation', ascending=False)"
   ]
  },
  {
   "cell_type": "code",
   "execution_count": 167,
   "metadata": {},
   "outputs": [
    {
     "name": "stderr",
     "output_type": "stream",
     "text": [
      "C:\\Users\\ashkm\\AppData\\Local\\Packages\\PythonSoftwareFoundation.Python.3.10_qbz5n2kfra8p0\\LocalCache\\local-packages\\Python310\\site-packages\\yfinance\\utils.py:775: FutureWarning: The 'unit' keyword in TimedeltaIndex construction is deprecated and will be removed in a future version. Use pd.to_timedelta instead.\n",
      "  df.index += _pd.TimedeltaIndex(dst_error_hours, 'h')\n"
     ]
    },
    {
     "data": {
      "text/html": [
       "<div>\n",
       "<style scoped>\n",
       "    .dataframe tbody tr th:only-of-type {\n",
       "        vertical-align: middle;\n",
       "    }\n",
       "\n",
       "    .dataframe tbody tr th {\n",
       "        vertical-align: top;\n",
       "    }\n",
       "\n",
       "    .dataframe thead th {\n",
       "        text-align: right;\n",
       "    }\n",
       "</style>\n",
       "<table border=\"1\" class=\"dataframe\">\n",
       "  <thead>\n",
       "    <tr style=\"text-align: right;\">\n",
       "      <th></th>\n",
       "      <th>Open</th>\n",
       "      <th>High</th>\n",
       "      <th>Low</th>\n",
       "      <th>Close</th>\n",
       "      <th>Volume</th>\n",
       "      <th>Dividends</th>\n",
       "      <th>Stock Splits</th>\n",
       "    </tr>\n",
       "    <tr>\n",
       "      <th>Date</th>\n",
       "      <th></th>\n",
       "      <th></th>\n",
       "      <th></th>\n",
       "      <th></th>\n",
       "      <th></th>\n",
       "      <th></th>\n",
       "      <th></th>\n",
       "    </tr>\n",
       "  </thead>\n",
       "  <tbody>\n",
       "    <tr>\n",
       "      <th>2023-08-24 00:00:00+01:00</th>\n",
       "      <td>144.673004</td>\n",
       "      <td>145.947006</td>\n",
       "      <td>144.621002</td>\n",
       "      <td>144.673004</td>\n",
       "      <td>0</td>\n",
       "      <td>0.0</td>\n",
       "      <td>0.0</td>\n",
       "    </tr>\n",
       "    <tr>\n",
       "      <th>2023-08-25 00:00:00+01:00</th>\n",
       "      <td>146.067001</td>\n",
       "      <td>146.604996</td>\n",
       "      <td>145.733994</td>\n",
       "      <td>146.067001</td>\n",
       "      <td>0</td>\n",
       "      <td>0.0</td>\n",
       "      <td>0.0</td>\n",
       "    </tr>\n",
       "    <tr>\n",
       "      <th>2023-08-28 00:00:00+01:00</th>\n",
       "      <td>146.531006</td>\n",
       "      <td>146.716003</td>\n",
       "      <td>146.278000</td>\n",
       "      <td>146.531006</td>\n",
       "      <td>0</td>\n",
       "      <td>0.0</td>\n",
       "      <td>0.0</td>\n",
       "    </tr>\n",
       "    <tr>\n",
       "      <th>2023-08-29 00:00:00+01:00</th>\n",
       "      <td>146.464005</td>\n",
       "      <td>147.343994</td>\n",
       "      <td>145.852005</td>\n",
       "      <td>146.464005</td>\n",
       "      <td>0</td>\n",
       "      <td>0.0</td>\n",
       "      <td>0.0</td>\n",
       "    </tr>\n",
       "    <tr>\n",
       "      <th>2023-08-30 00:00:00+01:00</th>\n",
       "      <td>145.988007</td>\n",
       "      <td>146.522995</td>\n",
       "      <td>145.557999</td>\n",
       "      <td>145.988007</td>\n",
       "      <td>0</td>\n",
       "      <td>0.0</td>\n",
       "      <td>0.0</td>\n",
       "    </tr>\n",
       "  </tbody>\n",
       "</table>\n",
       "</div>"
      ],
      "text/plain": [
       "                                 Open        High         Low       Close  \\\n",
       "Date                                                                        \n",
       "2023-08-24 00:00:00+01:00  144.673004  145.947006  144.621002  144.673004   \n",
       "2023-08-25 00:00:00+01:00  146.067001  146.604996  145.733994  146.067001   \n",
       "2023-08-28 00:00:00+01:00  146.531006  146.716003  146.278000  146.531006   \n",
       "2023-08-29 00:00:00+01:00  146.464005  147.343994  145.852005  146.464005   \n",
       "2023-08-30 00:00:00+01:00  145.988007  146.522995  145.557999  145.988007   \n",
       "\n",
       "                           Volume  Dividends  Stock Splits  \n",
       "Date                                                        \n",
       "2023-08-24 00:00:00+01:00       0        0.0           0.0  \n",
       "2023-08-25 00:00:00+01:00       0        0.0           0.0  \n",
       "2023-08-28 00:00:00+01:00       0        0.0           0.0  \n",
       "2023-08-29 00:00:00+01:00       0        0.0           0.0  \n",
       "2023-08-30 00:00:00+01:00       0        0.0           0.0  "
      ]
     },
     "execution_count": 167,
     "metadata": {},
     "output_type": "execute_result"
    }
   ],
   "source": [
    "#use to to look at the data for 1 ticker\n",
    "ticker = yf.Ticker('JPY=X')\n",
    "df = ticker.history(period = '6mo', interval='1d')\n",
    "df.head()"
   ]
  },
  {
   "cell_type": "code",
   "execution_count": 16,
   "metadata": {},
   "outputs": [],
   "source": [
    "# function to format in a useable df, only keeping the date part of datetime to avoid time-caused errors\n",
    "# also we found that from yfinanve the 'Date' column was actually an index, so converted it to a column\n",
    "def get_stock_data_to_df(ticker):\n",
    "    ticker = yf.Ticker(str(ticker))\n",
    "    df = ticker.history(period = '6mo', interval='1d')\n",
    "    df.reset_index(inplace=True)\n",
    "    df[\"timestamp_processed\"] = [e.strftime('%Y-%m-%d') for e in df[\"Date\"]]\n",
    "    return df"
   ]
  },
  {
   "cell_type": "code",
   "execution_count": 17,
   "metadata": {},
   "outputs": [],
   "source": [
    "# making the data stionary to fit the assumption. logging the price for the column given and taking the diffence\n",
    "# created a new column for that called 'stationary'\n",
    "def stationaryize(df : pd.DataFrame, time) -> pd.DataFrame:\n",
    "    df['stationary'] = (np.log(df[time])).diff()\n",
    "    df = df.dropna(how = 'any', axis = 0, )\n",
    "    return df"
   ]
  },
  {
   "cell_type": "code",
   "execution_count": 18,
   "metadata": {},
   "outputs": [],
   "source": [
    "\n",
    "def get_clean_data(ticker, time) -> pd.DataFrame:\n",
    "    return stationaryize(get_stock_data_to_df(ticker.upper()), time)"
   ]
  },
  {
   "cell_type": "code",
   "execution_count": 19,
   "metadata": {},
   "outputs": [
    {
     "name": "stderr",
     "output_type": "stream",
     "text": [
      "c:\\2.19 Pitch\\yearning\\.venv\\Lib\\site-packages\\yfinance\\utils.py:775: FutureWarning: The 'unit' keyword in TimedeltaIndex construction is deprecated and will be removed in a future version. Use pd.to_timedelta instead.\n",
      "  df.index += _pd.TimedeltaIndex(dst_error_hours, 'h')\n"
     ]
    }
   ],
   "source": [
    "# tester\n",
    "aapl = get_clean_data('aapl', \"Close\")"
   ]
  },
  {
   "cell_type": "code",
   "execution_count": 20,
   "metadata": {},
   "outputs": [],
   "source": [
    "# main function here which takes in 2 tickers and the open/close/high/low column, and merges the stationary columnms for each on the timestamp column\n",
    "\n",
    "def merge_df(ticker1, ticker2, open_or_close):\n",
    "    df1 = get_clean_data(ticker1, open_or_close)\n",
    "    # print(\"df of  \" + ticker1 + \" \" + str(np.shape(df1)))\n",
    "    # print(\"df of \" + ticker1)\n",
    "    # print(df1.head())\n",
    "    df2 = get_clean_data(ticker2, open_or_close)\n",
    "    # print(\"df of  \" + ticker2 + \" \" + str(np.shape(df2)))\n",
    "    # print(\"df of \" + ticker2)\n",
    "    # print(df2.head())\n",
    "    # return pd.merge(df1[['stationary']], df2[['stationary']], left_index=True, right_index=True, how='right').rename(columns={'stationary_x': ticker1, 'stationary_y': ticker2}).dropna(how='any')\n",
    "    return pd.merge(df1[['timestamp_processed', 'stationary']], df2[['timestamp_processed', 'stationary']], on='timestamp_processed', how='right').rename(columns = {'stationary_x': ticker1, 'stationary_y': ticker2}).dropna(how='any')\n"
   ]
  },
  {
   "cell_type": "code",
   "execution_count": 160,
   "metadata": {},
   "outputs": [
    {
     "name": "stderr",
     "output_type": "stream",
     "text": [
      "C:\\Users\\ashkm\\AppData\\Local\\Packages\\PythonSoftwareFoundation.Python.3.10_qbz5n2kfra8p0\\LocalCache\\local-packages\\Python310\\site-packages\\yfinance\\utils.py:775: FutureWarning: The 'unit' keyword in TimedeltaIndex construction is deprecated and will be removed in a future version. Use pd.to_timedelta instead.\n",
      "  df.index += _pd.TimedeltaIndex(dst_error_hours, 'h')\n"
     ]
    },
    {
     "name": "stderr",
     "output_type": "stream",
     "text": [
      "C:\\Users\\ashkm\\AppData\\Local\\Packages\\PythonSoftwareFoundation.Python.3.10_qbz5n2kfra8p0\\LocalCache\\local-packages\\Python310\\site-packages\\yfinance\\utils.py:775: FutureWarning: The 'unit' keyword in TimedeltaIndex construction is deprecated and will be removed in a future version. Use pd.to_timedelta instead.\n",
      "  df.index += _pd.TimedeltaIndex(dst_error_hours, 'h')\n"
     ]
    },
    {
     "data": {
      "text/html": [
       "<div>\n",
       "<style scoped>\n",
       "    .dataframe tbody tr th:only-of-type {\n",
       "        vertical-align: middle;\n",
       "    }\n",
       "\n",
       "    .dataframe tbody tr th {\n",
       "        vertical-align: top;\n",
       "    }\n",
       "\n",
       "    .dataframe thead th {\n",
       "        text-align: right;\n",
       "    }\n",
       "</style>\n",
       "<table border=\"1\" class=\"dataframe\">\n",
       "  <thead>\n",
       "    <tr style=\"text-align: right;\">\n",
       "      <th></th>\n",
       "      <th>timestamp_processed</th>\n",
       "      <th>^TNX</th>\n",
       "      <th>^GSPC</th>\n",
       "    </tr>\n",
       "  </thead>\n",
       "  <tbody>\n",
       "    <tr>\n",
       "      <th>0</th>\n",
       "      <td>2023-08-25</td>\n",
       "      <td>0.000944</td>\n",
       "      <td>0.006696</td>\n",
       "    </tr>\n",
       "    <tr>\n",
       "      <th>1</th>\n",
       "      <td>2023-08-28</td>\n",
       "      <td>-0.006390</td>\n",
       "      <td>0.006245</td>\n",
       "    </tr>\n",
       "    <tr>\n",
       "      <th>2</th>\n",
       "      <td>2023-08-29</td>\n",
       "      <td>-0.021599</td>\n",
       "      <td>0.014404</td>\n",
       "    </tr>\n",
       "    <tr>\n",
       "      <th>3</th>\n",
       "      <td>2023-08-30</td>\n",
       "      <td>-0.000971</td>\n",
       "      <td>0.003826</td>\n",
       "    </tr>\n",
       "    <tr>\n",
       "      <th>4</th>\n",
       "      <td>2023-08-31</td>\n",
       "      <td>-0.006089</td>\n",
       "      <td>-0.001598</td>\n",
       "    </tr>\n",
       "    <tr>\n",
       "      <th>...</th>\n",
       "      <td>...</td>\n",
       "      <td>...</td>\n",
       "      <td>...</td>\n",
       "    </tr>\n",
       "    <tr>\n",
       "      <th>120</th>\n",
       "      <td>2024-02-16</td>\n",
       "      <td>0.012888</td>\n",
       "      <td>-0.004815</td>\n",
       "    </tr>\n",
       "    <tr>\n",
       "      <th>121</th>\n",
       "      <td>2024-02-20</td>\n",
       "      <td>-0.004667</td>\n",
       "      <td>-0.006023</td>\n",
       "    </tr>\n",
       "    <tr>\n",
       "      <th>122</th>\n",
       "      <td>2024-02-21</td>\n",
       "      <td>0.011628</td>\n",
       "      <td>0.001263</td>\n",
       "    </tr>\n",
       "    <tr>\n",
       "      <th>123</th>\n",
       "      <td>2024-02-22</td>\n",
       "      <td>0.000462</td>\n",
       "      <td>0.020903</td>\n",
       "    </tr>\n",
       "    <tr>\n",
       "      <th>124</th>\n",
       "      <td>2024-02-23</td>\n",
       "      <td>-0.015605</td>\n",
       "      <td>0.000348</td>\n",
       "    </tr>\n",
       "  </tbody>\n",
       "</table>\n",
       "<p>125 rows × 3 columns</p>\n",
       "</div>"
      ],
      "text/plain": [
       "    timestamp_processed      ^TNX     ^GSPC\n",
       "0            2023-08-25  0.000944  0.006696\n",
       "1            2023-08-28 -0.006390  0.006245\n",
       "2            2023-08-29 -0.021599  0.014404\n",
       "3            2023-08-30 -0.000971  0.003826\n",
       "4            2023-08-31 -0.006089 -0.001598\n",
       "..                  ...       ...       ...\n",
       "120          2024-02-16  0.012888 -0.004815\n",
       "121          2024-02-20 -0.004667 -0.006023\n",
       "122          2024-02-21  0.011628  0.001263\n",
       "123          2024-02-22  0.000462  0.020903\n",
       "124          2024-02-23 -0.015605  0.000348\n",
       "\n",
       "[125 rows x 3 columns]"
      ]
     },
     "execution_count": 160,
     "metadata": {},
     "output_type": "execute_result"
    }
   ],
   "source": [
    "merge_df('^TNX', '^GSPC', 'Close')"
   ]
  },
  {
   "cell_type": "code",
   "execution_count": null,
   "metadata": {},
   "outputs": [],
   "source": [
    "%pip install statsmodels"
   ]
  },
  {
   "cell_type": "code",
   "execution_count": 25,
   "metadata": {},
   "outputs": [],
   "source": [
    "from statsmodels.tsa.stattools import grangercausalitytests"
   ]
  },
  {
   "cell_type": "code",
   "execution_count": 26,
   "metadata": {},
   "outputs": [],
   "source": [
    "# function for the granger test. takes in the tickers, time(open/close/high/low), and lag, and calls merge_df function. returns the test\n",
    "\n",
    "\n",
    "def granger_causality(ticker1, ticker2, time, lag):\n",
    "    df = merge_df(ticker1, ticker2, time)\n",
    "    # if len(df[ticker1]) != len(df[ticker2]):\n",
    "    # minrows = min(len(df[ticker1]), len(df[ticker2]))\n",
    "    # df = df.iloc[:,:minrows]\n",
    "    #print(np.shape(df))\n",
    "    return grangercausalitytests(df[[ticker1, ticker2]], lag)\n"
   ]
  },
  {
   "cell_type": "code",
   "execution_count": null,
   "metadata": {},
   "outputs": [],
   "source": [
    "granger_causality('TSLA', 'AAPL', 'Open', 4)"
   ]
  },
  {
   "cell_type": "code",
   "execution_count": null,
   "metadata": {},
   "outputs": [],
   "source": [
    "granger_causality('^TNX', '^GSPC', 'Close', 4)"
   ]
  },
  {
   "cell_type": "code",
   "execution_count": null,
   "metadata": {},
   "outputs": [],
   "source": []
  }
 ],
 "metadata": {
  "kernelspec": {
   "display_name": "venv",
   "language": "python",
   "name": "venv"
  },
  "language_info": {
   "codemirror_mode": {
    "name": "ipython",
    "version": 3
   },
   "file_extension": ".py",
   "mimetype": "text/x-python",
   "name": "python",
   "nbconvert_exporter": "python",
   "pygments_lexer": "ipython3",
   "version": "3.12.0"
  }
 },
 "nbformat": 4,
 "nbformat_minor": 2
}

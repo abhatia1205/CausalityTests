{
 "cells": [
  {
   "cell_type": "code",
   "execution_count": 12,
   "metadata": {},
   "outputs": [],
   "source": [
    "from polygon import RESTClient\n",
    "import pandas as pd"
   ]
  },
  {
   "cell_type": "code",
   "execution_count": 13,
   "metadata": {},
   "outputs": [],
   "source": [
    "client = RESTClient(api_key=\"qAECEY64BgfArsBJID6VYCJ1k0asFEll\")"
   ]
  },
  {
   "cell_type": "code",
   "execution_count": 50,
   "metadata": {},
   "outputs": [],
   "source": [
    "def regresser(independent, dependent, start, end, freq):\n",
    "    ind = [a for a in client.list_aggs(ticker=independent, multiplier=1, timespan=freq, from_=start, to=end, limit=50000)]\n",
    "    dep = [a for a in client.list_aggs(ticker=dependent, multiplier=1, timespan=freq, from_=start, to=end, limit=50000)]\n",
    "    df_ind = pd.DataFrame(ind)[['timestamp', 'close']].rename(columns={'close': independent})\n",
    "    df_dep = pd.DataFrame(dep)[['timestamp', 'close']].rename(columns={'close': dependent})\n",
    "    df = df_ind.merge(df_dep, on='timestamp', how='inner')\n",
    "    df['timestamp'] = pd.to_datetime(df['timestamp'], unit='ms')\n",
    "    for x in [independent, dependent]:\n",
    "        df[f'{x}%'] = df[x].pct_change()\n",
    "    correlation = df[f'{independent}%'].corr(df[f'{dependent}%'])\n",
    "    return correlation"
   ]
  },
  {
   "cell_type": "code",
   "execution_count": 51,
   "metadata": {},
   "outputs": [
    {
     "data": {
      "text/plain": [
       "0.4969332162524755"
      ]
     },
     "execution_count": 51,
     "metadata": {},
     "output_type": "execute_result"
    }
   ],
   "source": [
    "regresser('MS', 'GS',\"2023-01-01\", \"2023-06-13\", 'day')"
   ]
  },
  {
   "cell_type": "code",
   "execution_count": null,
   "metadata": {},
   "outputs": [],
   "source": []
  }
 ],
 "metadata": {
  "kernelspec": {
   "display_name": "base",
   "language": "python",
   "name": "python3"
  },
  "language_info": {
   "codemirror_mode": {
    "name": "ipython",
    "version": 3
   },
   "file_extension": ".py",
   "mimetype": "text/x-python",
   "name": "python",
   "nbconvert_exporter": "python",
   "pygments_lexer": "ipython3",
   "version": "3.11.8"
  }
 },
 "nbformat": 4,
 "nbformat_minor": 2
}
